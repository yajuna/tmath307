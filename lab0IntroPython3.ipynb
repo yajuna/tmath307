{
 "cells": [
  {
   "cell_type": "markdown",
   "metadata": {},
   "source": [
    "This notebook introduces you to some basic commands in Python3"
   ]
  },
  {
   "cell_type": "code",
   "execution_count": null,
   "metadata": {},
   "outputs": [],
   "source": [
    "## import packages, and conventional abbrev.\n",
    "import numpy as np\n",
    "import scipy as sp\n",
    "import matplotlib \n",
    "import matplotlib.pyplot as plt\n",
    "\n",
    "## check versions of above packages\n",
    "print(np.version.version, sp.__version__,matplotlib.__version__)"
   ]
  },
  {
   "cell_type": "markdown",
   "metadata": {},
   "source": [
    "You can do basic arithmetics with Python. Be careful with syntax, Python is case sensitive, and try to name variables with reasonable names that you can remember later (for example, don't name your sum Bob). Also remember to avoid library function names, the name ``sum\" is such an example."
   ]
  },
  {
   "cell_type": "code",
   "execution_count": null,
   "metadata": {},
   "outputs": [],
   "source": [
    "## Compute with Python\n",
    "x = 3.0; y = 4.0\n",
    "_sum = x + y\n",
    "_difference = x - y\n",
    "_product = x*y\n",
    "_power = x**y\n",
    "_division = x/y\n",
    "\n",
    "print (_sum, _difference, _product, _power, _division)"
   ]
  },
  {
   "cell_type": "markdown",
   "metadata": {},
   "source": [
    "Another useful tool for solving differential equations is the for loop. In general, it is not a good idea to have several entangled for loops. If you have taken TMATH308, always think about how to vectorize your computations."
   ]
  },
  {
   "cell_type": "code",
   "execution_count": null,
   "metadata": {},
   "outputs": [],
   "source": [
    "## An example: add up all the natural numbers from 1 to 100. Python index start from 0, \n",
    "## and does not include the last index. Define the sum first. Run cell to see output\n",
    "\n",
    "sumNatural = 0\n",
    "for i in range(101):\n",
    "    sumNatural += i\n",
    "print(sumNatural)  "
   ]
  },
  {
   "cell_type": "markdown",
   "metadata": {},
   "source": [
    "We will cover this more in Section 2.7, but here is a very basic code for solving a simply differential equation $dy/dt = e^t$. We know the solution is $y=e^t$. Let's see how to write a simple code to solve it numerically."
   ]
  },
  {
   "cell_type": "code",
   "execution_count": null,
   "metadata": {},
   "outputs": [],
   "source": [
    "## define right hand side function e^t\n",
    "\n",
    "def rhs(t):\n",
    "    return np.e**t\n",
    "\n",
    "## give a vector valued t, and print the output\n",
    "t = np.linspace(-1,4,num = 500)\n",
    "out1 = rhs(t)\n",
    "print(out1)"
   ]
  },
  {
   "cell_type": "markdown",
   "metadata": {},
   "source": [
    "We plot the output. Notice that the function you defined can take vector as input."
   ]
  },
  {
   "cell_type": "code",
   "execution_count": null,
   "metadata": {},
   "outputs": [],
   "source": [
    "## run cell to see plot of output of rhs\n",
    "plt.plot(t, out1, 'bo')\n",
    "plt.show()"
   ]
  },
  {
   "cell_type": "markdown",
   "metadata": {},
   "source": [
    "We solve the differential equation by use the approximation $y_1 \\approx y_0 + \\Delta t\\cdot e^t$"
   ]
  },
  {
   "cell_type": "code",
   "execution_count": null,
   "metadata": {},
   "outputs": [],
   "source": [
    "## make a zero array to store computations\n",
    "\n",
    "y = np.zeros(np.size(t))\n",
    "\n",
    "## initial condition y0 = 1/e (y(-1)=e^(-1))\n",
    "\n",
    "y[0] = 1/np.e\n",
    "\n",
    "dt = t[1] - t[0]\n",
    "\n",
    "for i in range(np.size(t)-1):\n",
    "    y[i+1] = y[i] + dt*np.e**t[i]   "
   ]
  },
  {
   "cell_type": "code",
   "execution_count": null,
   "metadata": {},
   "outputs": [],
   "source": [
    "## visualize the computation\n",
    "plt.plot(t, y, 'r+')\n",
    "plt.show()"
   ]
  },
  {
   "cell_type": "code",
   "execution_count": null,
   "metadata": {},
   "outputs": [],
   "source": [
    "## plot true and numerical computation in one plot\n",
    "\n",
    "plt.plot(t, out1, 'bo')\n",
    "plt.plot(t, y, 'r+')\n",
    "plt.show()"
   ]
  }
 ],
 "metadata": {
  "kernelspec": {
   "display_name": "Python 3 (ipykernel)",
   "language": "python",
   "name": "python3"
  },
  "language_info": {
   "codemirror_mode": {
    "name": "ipython",
    "version": 3
   },
   "file_extension": ".py",
   "mimetype": "text/x-python",
   "name": "python",
   "nbconvert_exporter": "python",
   "pygments_lexer": "ipython3",
   "version": "3.8.10"
  }
 },
 "nbformat": 4,
 "nbformat_minor": 2
}
