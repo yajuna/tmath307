{
 "cells": [
  {
   "cell_type": "markdown",
   "metadata": {},
   "source": [
    "This lab investigates two methods of solving higher order differential equations. They both have advantages and disadvantages. When doing this lab, think about the differences between the two methods, and the differences between first and second order differential equations. "
   ]
  },
  {
   "cell_type": "code",
   "execution_count": null,
   "metadata": {},
   "outputs": [],
   "source": [
    "## import packages\n",
    "import numpy as np\n",
    "import scipy as sp\n",
    "import matplotlib \n",
    "import matplotlib.pyplot as plt "
   ]
  },
  {
   "cell_type": "markdown",
   "metadata": {},
   "source": [
    "Consider a general second order differential equation $\\frac{d^2y}{dt^2}=f(t,y,\\frac{dy}{dt})$, given the initial conditions $y(0)=\\alpha$, $y'(0)=\\beta$. We discretize the differential equation by replacing the derivatives in the following way: \n",
    "\n",
    "$$y'(t_{j+1})\\approx \\frac{y_{j+1}-y_j}{\\Delta t},$$\n",
    "and \n",
    "$$y''(t_{j+1})\\approx \\frac{y_{j+1}-2y_j+y_{j-1}}{(\\Delta t)^2},$$\n",
    "then we move all the values $y_{j+1}$ to the left hand side of the discrete equation. We get a general difference equation in the following format\n",
    "$$y_{j+1}=f(t_i,y_i,y_{j-1}).$$ \n",
    "With the initial conditions $y_0=\\alpha$, and $\\frac{y_1-y_0}{\\Delta t}=\\beta$, we can solve the difference equation forward in a iterative fashion. "
   ]
  },
  {
   "cell_type": "markdown",
   "metadata": {},
   "source": [
    "We consider the *nonlinear* equation $\\frac{d^2y}{dt^2}=(1-y^2)\\frac{dy}{dt}-y$, with initial conditions $y(0)=1$, $y'(0)=-1$, and solve the IVP on time interval $[0,4]$.\n",
    "\n",
    "Notice this is not a problem that we can solve analytically."
   ]
  },
  {
   "cell_type": "code",
   "execution_count": null,
   "metadata": {},
   "outputs": [],
   "source": [
    "## We take the number of steps N to be 4, then dt = 0.1\n",
    "N = 40000\n",
    "endt = 4\n",
    "dt = (endt - 0)/N\n",
    "print(dt)"
   ]
  },
  {
   "cell_type": "code",
   "execution_count": null,
   "metadata": {},
   "outputs": [],
   "source": [
    "## give a vector valued t, and print the output\n",
    "t = np.linspace(0,endt,num = N, endpoint = False)\n",
    "\n",
    "## make a zero array to store computations\n",
    "\n",
    "y = np.zeros(np.size(t))\n",
    "\n",
    "## initial condition y0 = 1 y'0 = -1\n",
    "\n",
    "y[0] = 1\n",
    "y[1] = -1*dt + y[0]"
   ]
  },
  {
   "cell_type": "code",
   "execution_count": null,
   "metadata": {},
   "outputs": [],
   "source": [
    "## discretize the DE. y_1 for next step, y_0 for current\n",
    "## step, y_-1 for previous step\n",
    "## (y_1 - 2y_0 + y_-1)/dt**2 = (1 - y_0**2) * (y_0 - y_-1)/dt - y_0\n",
    "\n",
    "## iterative step for computing the unknown value y\n",
    "for i in range(1, np.size(t)-1):\n",
    "    y[i+1] = dt * (1 - y[i] ** 2) * (y[i] - y[i-1]) - dt ** 2 * y[i] + 2 * y[i] - y[i-1]"
   ]
  },
  {
   "cell_type": "code",
   "execution_count": null,
   "metadata": {},
   "outputs": [],
   "source": [
    "## visualize the numerical solutions: discrete data points\n",
    "plt.plot(t, y, '.r-')\n",
    "plt.title('Second order equation with number of steps: N=%i' %N)\n",
    "plt.show()"
   ]
  },
  {
   "cell_type": "code",
   "execution_count": null,
   "metadata": {},
   "outputs": [],
   "source": [
    "## change N to 40, 400, and 4000. Run above cells, and plot the images for each. Observe \n",
    "## changes in the solution curves with varying N"
   ]
  },
  {
   "cell_type": "markdown",
   "metadata": {},
   "source": [
    "Sometimes, it is easier to convert a higher order differential equation to a system of first order equations. The number of order is always equal to the number of 1st order equations. Let \n",
    "$$u(t)=y(t)$$ and $$v(t)=dy/dt,$$ \n",
    "then $u$ and $v$ satisfy the two *first order* differential equations:\n",
    "$$du/dt = v$$ and \n",
    "$$dv/dt = (1-u^2)v-u.$$\n",
    "We can write these two equations as a first order system: \n",
    "$\\begin{pmatrix}du/dt\\\\ dv/dt\\end{pmatrix} = \\begin{pmatrix} 0 & 1\\\\ -1 & 1-u^2\\end{pmatrix}\\begin{pmatrix}u\\\\ v\\end{pmatrix}$\n",
    "\n",
    "with vector initial condition $\\begin{pmatrix}u(0)\\\\ v(0)\\end{pmatrix}=\\begin{pmatrix}1\\\\ -1\\end{pmatrix}$"
   ]
  },
  {
   "cell_type": "code",
   "execution_count": null,
   "metadata": {},
   "outputs": [],
   "source": [
    "# define zero vectors to store u and v. Let U = (u,v).T\n",
    "U = np.zeros((2, np.size(t)))\n",
    "U[:,0] = np.asarray([1,-1]).T\n",
    "print(U.shape, U[:,0].shape)"
   ]
  },
  {
   "cell_type": "code",
   "execution_count": null,
   "metadata": {},
   "outputs": [],
   "source": [
    "## iterative step for computing the unknown value U as a vector \n",
    "for i in range(np.size(t)-1):\n",
    "    tempMatrix = np.asarray([[0,1],[-1, 1 - U[0,i]**2]])\n",
    "    U[:,i + 1] = tempMatrix.dot(U[:,i])*dt + U[:,i]\n",
    "# the first component is what we want     "
   ]
  },
  {
   "cell_type": "code",
   "execution_count": null,
   "metadata": {},
   "outputs": [],
   "source": [
    "## visualize the numerical solutions: discrete data points, plot\n",
    "## first component u for unknown function y(t)\n",
    "plt.plot(t, U[0,:], '.b-')\n",
    "plt.title('First order system, with number of steps: N=%i' %N)\n",
    "plt.show()"
   ]
  },
  {
   "cell_type": "code",
   "execution_count": null,
   "metadata": {},
   "outputs": [],
   "source": [
    "# plt.plot(t, y, '.r', t, U[0,:], '.b', alpha = 0.2)\n",
    "# plt.title('Comparison, with number of steps: N=%i' %N)\n",
    "# plt.show()"
   ]
  },
  {
   "cell_type": "markdown",
   "metadata": {},
   "source": [
    "Now run the following code for a *simpler problem*. Observe a comparison. IVP: \n",
    "\n",
    "$$y''+3y'+2y=0,\\ y(0)=1,\\ y'(0)=-1$$"
   ]
  },
  {
   "cell_type": "code",
   "execution_count": null,
   "metadata": {},
   "outputs": [],
   "source": [
    "## set up vectors and IC for linear y\n",
    "\n",
    "## make a zero array to store computations\n",
    "\n",
    "yl = np.zeros(np.size(t))\n",
    "\n",
    "## initial condition y0 = 1 y'0 = -1\n",
    "\n",
    "yl[0] = 1\n",
    "yl[1] = -1*dt + yl[0]\n",
    "\n",
    "## iterative step for computing the unknown value y\n",
    "for i in range(1, np.size(t)-1):\n",
    "    yl[i+1] = 2 * yl[i] - yl[i-1] - 3 * dt * (yl[i]-yl[i-1]) - 2 * dt ** 2 * yl[i]\n",
    "    #1./(1/dt**2 + 3/dt)*(2/dt**2*yl[i] + 3/dt*yl[i] - 2*yl[i] - 1/dt**2*yl[i-1])"
   ]
  },
  {
   "cell_type": "code",
   "execution_count": null,
   "metadata": {},
   "outputs": [],
   "source": [
    "## visualize the numerical solutions: discrete data points, plot unknown function yl(t)\n",
    "plt.plot(t, yl, '.r-')\n",
    "plt.title('Second order linear equation, with number of steps: N=%i' %N)\n",
    "plt.show()"
   ]
  },
  {
   "cell_type": "markdown",
   "metadata": {},
   "source": [
    "Here we again formulate the second order problem into a system of two first order equations.\n",
    "\n",
    "Let $$u(t)=y(t)$$ and $$v(t)=dy/dt,$$ \n",
    "then $u$ and $v$ satisfy the two *first order* differential equations:\n",
    "$$du/dt = v$$ and \n",
    "$$dv/dt = -2u-3v.$$\n",
    "We can write these two equations as a first order system: \n",
    "$\\begin{pmatrix}du/dt\\\\ dv/dt\\end{pmatrix} = \\begin{pmatrix} 0 & 1\\\\ -2 & -3\\end{pmatrix}\\begin{pmatrix}u\\\\ v\\end{pmatrix}$\n",
    "\n",
    "with vector initial condition $\\begin{pmatrix}u(0)\\\\ v(0)\\end{pmatrix}=\\begin{pmatrix}1\\\\ -1\\end{pmatrix}$"
   ]
  },
  {
   "cell_type": "code",
   "execution_count": null,
   "metadata": {},
   "outputs": [],
   "source": [
    "# define zero vectors to store ul and vl. Let Ul = (ul,vl).T; initial condition as vector\n",
    "Ul = np.zeros((2, np.size(t)))\n",
    "Ul[:,0] = np.asarray([1,-1]).T\n",
    "\n",
    "# define constant matrix\n",
    "tempMatrixl = np.asarray([[0,1],[-2, -3]])\n",
    "\n",
    "## iterative step for computing the unknown value U as a vector \n",
    "for i in range(np.size(t)-1):\n",
    "    Ul[:,i + 1] = tempMatrixl.dot(Ul[:,i])*dt + Ul[:,i]\n",
    "# the first component is what we want "
   ]
  },
  {
   "cell_type": "code",
   "execution_count": null,
   "metadata": {},
   "outputs": [],
   "source": [
    "## visualize the numerical solutions: discrete data points, plot\n",
    "## first component ul for unknown function yl(t)\n",
    "plt.plot(t, Ul[0,:], '.b-')\n",
    "plt.title('First order linear system, with number of steps: N=%i' %N)\n",
    "plt.show()"
   ]
  },
  {
   "cell_type": "code",
   "execution_count": null,
   "metadata": {},
   "outputs": [],
   "source": [
    "# plt.plot(t, yl, '.r-', t, Ul[0,:], '.b-')\n",
    "# plt.title('Comparison of constant linear equations, with number of steps: N=%i' %N)\n",
    "# plt.show()"
   ]
  },
  {
   "cell_type": "markdown",
   "metadata": {},
   "source": [
    "Computational methods are also very simple to implement when we have a nonhomogeneous problem. IVP: \n",
    "\n",
    "$$y''+3y'+2y=e^t + \\sin(3t) - t,\\ y(0)=1,\\ y'(0)=-1$$"
   ]
  },
  {
   "cell_type": "code",
   "execution_count": null,
   "metadata": {},
   "outputs": [],
   "source": [
    "## set up vectors and IC for linear y\n",
    "\n",
    "## make a zero array to store computations\n",
    "\n",
    "Y = np.zeros(np.size(t))\n",
    "\n",
    "## initial condition y0 = 1 y'0 = -1\n",
    "\n",
    "Y[0] = 1\n",
    "Y[1] = -1*dt + Y[0]\n",
    "\n",
    "## iterative step for computing the unknown value y\n",
    "for i in range(1, np.size(t)-1):\n",
    "    Y[i+1] = 2 * Y[i] - Y[i-1] - 3 * dt * (Y[i]-Y[i-1]) - 2 * dt ** 2 * Y[i] \n",
    "    + np.exp(t[i]) + np.sin(t[i]) - t[i]"
   ]
  },
  {
   "cell_type": "code",
   "execution_count": null,
   "metadata": {},
   "outputs": [],
   "source": [
    "## visualize the numerical solutions: discrete data points, plot unknown function yl(t)\n",
    "plt.plot(t, Y, '.r-')\n",
    "plt.title('Second order linear equation, with number of steps: N=%i' %N)\n",
    "plt.show()"
   ]
  }
 ],
 "metadata": {
  "kernelspec": {
   "display_name": "Python 3 (ipykernel)",
   "language": "python",
   "name": "python3"
  },
  "language_info": {
   "codemirror_mode": {
    "name": "ipython",
    "version": 3
   },
   "file_extension": ".py",
   "mimetype": "text/x-python",
   "name": "python",
   "nbconvert_exporter": "python",
   "pygments_lexer": "ipython3",
   "version": "3.11.4"
  }
 },
 "nbformat": 4,
 "nbformat_minor": 2
}
