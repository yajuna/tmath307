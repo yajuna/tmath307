{
 "cells": [
  {
   "cell_type": "markdown",
   "id": "ec22bf16",
   "metadata": {},
   "source": [
    "# In this notebook, we solve some equations with numerical methods. More details will be discussed in Section 2.7."
   ]
  },
  {
   "cell_type": "code",
   "execution_count": null,
   "id": "a78ff4b7",
   "metadata": {},
   "outputs": [],
   "source": [
    "## import packages, and conventional abbrev.\n",
    "import numpy as np\n",
    "import scipy as sp\n",
    "import matplotlib \n",
    "import matplotlib.pyplot as plt\n",
    "\n",
    "## check versions of above packages\n",
    "print(np.version.version,\"\\n\", sp.__version__,\"\\n\", matplotlib.__version__)"
   ]
  },
  {
   "cell_type": "markdown",
   "id": "4c3ad026",
   "metadata": {},
   "source": [
    "### Recall the definition of derivative $\\frac{dy}{dx}|_{x=a}=\\lim_{\\Delta x\\to 0}\\frac{y(a+\\Delta x)-y(a)}{\\Delta x}$. When $\\Delta x$ is \"small\", the approximation is good, and $\\frac{dy}{dx}=f(x,y)$ can be approximated by \n",
    "\n",
    "$\\frac{y(a+\\Delta x)-y(a)}{\\Delta x}=f(a,y(a))$. Given some initial condition $y(x_0)=y_0$, we can iterate the process and predict the values of $y$ by \n",
    "\n",
    "$y_{n+1} = y_{n} + \\Delta x f(x_{n}, y_n)$"
   ]
  },
  {
   "cell_type": "code",
   "execution_count": null,
   "id": "f230fe04",
   "metadata": {},
   "outputs": [],
   "source": [
    "# test with a simple equation with known solution dy/dt + 0.5y = 0.5exp(t/3), with y(0) = 1; the analytical solution\n",
    "# is y(t) = 3/5exp(t/3) + 2/5exp(-t/2); Example 2 in 2.1\n",
    "y = [0]\n",
    "t0 = 0\n",
    "n = 50\n",
    "t = np.linspace(t0, 50 + t0, n)\n",
    "dt = t[1] - t[0]\n",
    "\n",
    "for j in range(1, n):\n",
    "    y.append(y[j-1] + dt * (-0.5 * y[j-1] + 0.5 * np.exp(t[j-1]/3)))"
   ]
  },
  {
   "cell_type": "code",
   "execution_count": null,
   "id": "0f5129b1",
   "metadata": {},
   "outputs": [],
   "source": [
    "# visualize\n",
    "plt.figure(figsize=(10,10))\n",
    "\n",
    "plt.plot(t,y,'b.',markersize=5)\n",
    "\n",
    "y_exact = lambda t: 3/5 * np.exp(t/3) + 2/5 * np.exp(-t/2)\n",
    "y_sol = y_exact(t)\n",
    "\n",
    "plt.plot(t,y_sol,'r.',markersize=5)\n",
    "\n",
    "plt.xlabel('Time')\n",
    "plt.ylabel('Approximate and exact solution')\n",
    "plt.title('Simple Euler approximation')#,y=-0.25)"
   ]
  },
  {
   "cell_type": "code",
   "execution_count": null,
   "id": "8a2e8e7f",
   "metadata": {},
   "outputs": [],
   "source": [
    "# test separable equation dy/dx = (3x^2 + 4x + 2)/(2y-2), y(0) = -1\n",
    "\n",
    "y = [-1]\n",
    "t0 = 0\n",
    "n = 50\n",
    "t = np.linspace(t0, 50 + t0, n)\n",
    "dt = t[1] - t[0]\n",
    "\n",
    "for j in range(1, n):\n",
    "    y.append(y[j-1] + dt * (3 * t[j-1]**2 + 4 * t[j-1] + 2)/(2 * y[j-1]-2))\n",
    "    \n",
    "# visualize\n",
    "plt.figure(figsize=(10,10))\n",
    "\n",
    "plt.plot(t,y,'b.',markersize=5)\n",
    "\n",
    "y_exact = lambda t: 1 - np.sqrt(t**3 + 2 * t**2 + 2* t + 4)\n",
    "y_sol = y_exact(t)\n",
    "\n",
    "plt.plot(t,y_sol,'r.',markersize=5)\n",
    "\n",
    "plt.xlabel('Time')\n",
    "plt.ylabel('Approximate and true solution')\n",
    "plt.title('Simple Euler approximation')#,y=-0.25)  "
   ]
  },
  {
   "cell_type": "markdown",
   "id": "2d33bef7",
   "metadata": {},
   "source": [
    "## This idea of numerical approximation is especially handy when the differential equation is non-standard. Consider the Riccati equation\n",
    "\n",
    "$dy/dt = t^2 + y^2 $, we give it an initial condition $y(0)=1$"
   ]
  },
  {
   "cell_type": "code",
   "execution_count": null,
   "id": "5b05d21b",
   "metadata": {},
   "outputs": [],
   "source": [
    "# test the IVP without known analytical solutions\n",
    "y = [1]\n",
    "t0 = 0\n",
    "n = 50\n",
    "t = np.linspace(t0, 50 + t0, n)\n",
    "dt = t[1] - t[0]\n",
    "\n",
    "for j in range(1, n):\n",
    "    y.append(y[j-1] + dt * (y[j-1]**2 + t[j-1]**2))\n",
    "    \n",
    "# visualize\n",
    "plt.figure(figsize=(10,10))\n",
    "\n",
    "plt.plot(t,y,'b.',markersize=5)\n",
    "\n",
    "plt.xlabel('Time')\n",
    "plt.ylabel('Approximate solution')\n",
    "plt.title('Simple Euler approximation')#,y=-0.25)    "
   ]
  },
  {
   "cell_type": "code",
   "execution_count": null,
   "id": "8bde37ce",
   "metadata": {},
   "outputs": [],
   "source": []
  }
 ],
 "metadata": {
  "kernelspec": {
   "display_name": "Python 3 (ipykernel)",
   "language": "python",
   "name": "python3"
  },
  "language_info": {
   "codemirror_mode": {
    "name": "ipython",
    "version": 3
   },
   "file_extension": ".py",
   "mimetype": "text/x-python",
   "name": "python",
   "nbconvert_exporter": "python",
   "pygments_lexer": "ipython3",
   "version": "3.8.10"
  }
 },
 "nbformat": 4,
 "nbformat_minor": 5
}
