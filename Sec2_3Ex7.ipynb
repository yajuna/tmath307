{
  "nbformat": 4,
  "nbformat_minor": 0,
  "metadata": {
    "colab": {
      "provenance": [],
      "include_colab_link": true
    },
    "kernelspec": {
      "name": "python3",
      "display_name": "Python 3"
    },
    "language_info": {
      "name": "python"
    }
  },
  "cells": [
    {
      "cell_type": "markdown",
      "metadata": {
        "id": "view-in-github",
        "colab_type": "text"
      },
      "source": [
        "<a href=\"https://colab.research.google.com/github/yajuna/tmath307/blob/master/Sec2_3Ex7.ipynb\" target=\"_parent\"><img src=\"https://colab.research.google.com/assets/colab-badge.svg\" alt=\"Open In Colab\"/></a>"
      ]
    },
    {
      "cell_type": "markdown",
      "source": [
        "Consider the equation\n",
        "$dy/dt = k(1 - y)^2, y(0) = y_0$\n",
        "\n",
        "where $k$ is a positive constant. We see that $y = 1$ is the only critical point, with the\n",
        "corresponding equilibrium solution $\\phi(t)=1$.\n",
        "\n",
        "This is a semi stable equilibrium, as $f(y)\\geq 0$, so the solution goes to infinity if $y_0>1$, and approaches to $y=1$ if $y_0<1$.\n",
        "\n",
        "The explicit solution is\n",
        "\n",
        "$y(t) = 1 - \\frac{1}{kt + \\frac{1}{1-y_0}}$\n"
      ],
      "metadata": {
        "id": "wJ76p4Xjuun2"
      }
    },
    {
      "cell_type": "code",
      "execution_count": 5,
      "metadata": {
        "id": "i5OpdsgWosIo"
      },
      "outputs": [],
      "source": [
        "import numpy as np"
      ]
    },
    {
      "cell_type": "markdown",
      "source": [
        "If $y_0>1$, then the denominator is equal to zero when $t = T = \\frac{1}{k(y_0-1)}$. So the solution would blow up as $t\\to T$."
      ],
      "metadata": {
        "id": "Bn1U_Y3Sgf4L"
      }
    },
    {
      "cell_type": "markdown",
      "source": [
        "Below, with $k=1$, we experiment with different $y_0$ values.\n",
        "\n",
        "We observe that\n",
        "1. $y_0=1.1$ gives a solution that blows up as $t\\to 10$\n",
        "2. $y_0=0.9$ gives a solution that converges to 1 as $t\\to \\infty$"
      ],
      "metadata": {
        "id": "qLeue3_Zxkch"
      }
    },
    {
      "cell_type": "code",
      "source": [
        "k = 1\n",
        "y0 = 0.9#1.1#\n",
        "def fun(t):\n",
        "  return 1 - (1 - y0)/((1 - y0) * k * t + 1)\n"
      ],
      "metadata": {
        "id": "pnUrnSjaovQr"
      },
      "execution_count": 9,
      "outputs": []
    },
    {
      "cell_type": "code",
      "source": [
        "t1 = np.linspace(0,9999,5000)\n",
        "t2 = np.linspace(0, 1./(k * (y0 - 1)) - 1e-3, 5000)"
      ],
      "metadata": {
        "id": "jBklvPV5pCAc"
      },
      "execution_count": 11,
      "outputs": []
    },
    {
      "cell_type": "code",
      "source": [
        "import matplotlib.pyplot as plt\n",
        "if y0 < 1:\n",
        "  time = t1\n",
        "elif y0 > 1:\n",
        "  time = t2\n",
        "plt.plot(time, fun(time))"
      ],
      "metadata": {
        "colab": {
          "base_uri": "https://localhost:8080/",
          "height": 448
        },
        "id": "fyaTh_NapH9b",
        "outputId": "f43c0976-b9e3-4cdc-a4a1-3fc904d73aee"
      },
      "execution_count": 12,
      "outputs": [
        {
          "output_type": "execute_result",
          "data": {
            "text/plain": [
              "[<matplotlib.lines.Line2D at 0x7ab4b117fc70>]"
            ]
          },
          "metadata": {},
          "execution_count": 12
        },
        {
          "output_type": "display_data",
          "data": {
            "text/plain": [
              "<Figure size 640x480 with 1 Axes>"
            ],
            "image/png": "[encoded data removed]"
          },
          "metadata": {}
        }
      ]
    }
  ]
}