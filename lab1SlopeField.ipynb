{
 "cells": [
  {
   "cell_type": "markdown",
   "metadata": {},
   "source": [
    "To open this notebook in Google colab, click this badge: <a target=\"_blank\" href=\"https://colab.research.google.com/github/yajuna/tmath307/blob/master/lab1SlopeField.ipynb\">\n",
    "  <img src=\"https://colab.research.google.com/assets/colab-badge.svg\" alt=\"Open In Colab\"/>\n",
    "</a>"
   ]
  },
  {
   "cell_type": "markdown",
   "metadata": {},
   "source": [
    "This lab plays with drawing slope fields with Python. For any first order DE $dy/dt = f(t,y)$, wether it is solvable by analytical methods or not, we can always obtain a lot of information of $dy/dt$ by plotting the right hand side function $f(t,y)$ in a slope field.  \n",
    "\n",
    "A slope field for $dy/dt = f(t,y)$ is a field of arrows of slope $f(t_i,y_i)$ thru each point $(t_i,y_i)$ on the $ty$-plane."
   ]
  },
  {
   "cell_type": "code",
   "execution_count": null,
   "metadata": {},
   "outputs": [],
   "source": [
    "## import packages \n",
    "import numpy as np\n",
    "import matplotlib.pyplot as plt\n",
    "from scipy import *\n",
    "from scipy import integrate\n",
    "from scipy.integrate import ode"
   ]
  },
  {
   "cell_type": "markdown",
   "metadata": {},
   "source": [
    "We first plot the slope field for the spruce-budworm equation (models population of some pests, with the effect of predation by birds)\n",
    "$$dy/dt=ry\\big(1-\\frac{y}{N}\\big)-\\frac{ay^2}{b^2+y^2}.$$\n",
    "Here $r,\\ N,\\ a,\\ b$ are parameters, and we take them to be $r=0.2,\\ N=1, a=0.3,\\ b=1$. "
   ]
  },
  {
   "cell_type": "code",
   "execution_count": null,
   "metadata": {},
   "outputs": [],
   "source": [
    "# define parameters\n",
    "config = dict()\n",
    "config['r'] = -0.3\n",
    "config['N'] = 1\n",
    "config['a'] = 0.4\n",
    "config['b'] = 2\n",
    "\n",
    "r = config['r']\n",
    "N = config['N']\n",
    "a = config['a']\n",
    "b = config['b']\n"
   ]
  },
  {
   "cell_type": "code",
   "execution_count": null,
   "metadata": {},
   "outputs": [],
   "source": [
    "## define right hand side function \n",
    "\n",
    "def rhs(y):\n",
    "    return r*y*(1-y/N)-a*y**2/(b**2+y**2)    "
   ]
  },
  {
   "cell_type": "code",
   "execution_count": null,
   "metadata": {},
   "outputs": [],
   "source": [
    "## plot slope field (ref: https://stackoverflow.com/questions/18832763/drawing-directions-fields)\n",
    "# make image\n",
    "fig = plt.figure(num=1)\n",
    "ax=fig.add_subplot(111)\n",
    "ax.set_title('Slope field')\n",
    "\n",
    "## time spans from 0 to 30, total sample point is 20; y goes up to 1, total sample point is 20.\n",
    "t = np.linspace(0,30,20)\n",
    "y = np.linspace(-5,5,20)\n",
    "T,Y = np.meshgrid(t,y)\n",
    "\n",
    "## define slope field. At each point,the slope is given by (1,rhs).\n",
    "U1 = 1.0\n",
    "V1 = rhs(Y)\n",
    "\n",
    "## normalize to make slope vectors with length 1.\n",
    "norm = np.sqrt(U1**2 + V1**2)\n",
    "U,V = U1/norm, V1/norm\n",
    "\n",
    "## plot\n",
    "ax.quiver(T, Y, U, V)\n",
    "\n",
    "plt.xlabel(r\"$t$\")\n",
    "plt.ylabel(r\"$y$\")\n",
    "plt.show()"
   ]
  },
  {
   "cell_type": "markdown",
   "metadata": {},
   "source": [
    "Modify the above code, and plot your own slope field, for $r=0.2,\\ N=1, a=0.4,\\ b=2$. "
   ]
  },
  {
   "cell_type": "code",
   "execution_count": null,
   "metadata": {},
   "outputs": [],
   "source": [
    "## Your code here"
   ]
  },
  {
   "cell_type": "markdown",
   "metadata": {},
   "source": [
    "Modify the above code, plot your own slope field, for $dy/dt=y(1-y)(1+y)$."
   ]
  },
  {
   "cell_type": "code",
   "execution_count": null,
   "metadata": {},
   "outputs": [],
   "source": [
    "## Your code here"
   ]
  }
 ],
 "metadata": {
  "kernelspec": {
   "display_name": "Python 3 (ipykernel)",
   "language": "python",
   "name": "python3"
  },
  "language_info": {
   "codemirror_mode": {
    "name": "ipython",
    "version": 3
   },
   "file_extension": ".py",
   "mimetype": "text/x-python",
   "name": "python",
   "nbconvert_exporter": "python",
   "pygments_lexer": "ipython3",
   "version": "3.8.10"
  }
 },
 "nbformat": 4,
 "nbformat_minor": 2
}
