{
  "nbformat": 4,
  "nbformat_minor": 0,
  "metadata": {
    "colab": {
      "provenance": [],
      "authorship_tag": "ABX9TyMB5q6LsI3uBrFJK8ZQ9/64",
      "include_colab_link": true
    },
    "kernelspec": {
      "name": "python3",
      "display_name": "Python 3"
    },
    "language_info": {
      "name": "python"
    }
  },
  "cells": [
    {
      "cell_type": "markdown",
      "metadata": {
        "id": "view-in-github",
        "colab_type": "text"
      },
      "source": [
        "<a href=\"https://colab.research.google.com/github/yajuna/tmath307/blob/master/2nd_order_DE_tensorflow.ipynb\" target=\"_parent\"><img src=\"https://colab.research.google.com/assets/colab-badge.svg\" alt=\"Open In Colab\"/></a>"
      ]
    },
    {
      "cell_type": "markdown",
      "source": [
        "# In this notebook, we explore using tensorflow to solve second order differential equations.\n",
        "\n",
        "The example problem we use is\n",
        "\n",
        "$t^2y''+3ty'+4y=t$\n",
        "\n",
        "together with initial conditions\n",
        "\n",
        "$y(1) = 0, y'(1)=1$,\n",
        "\n",
        "solved on the interval [1,3]\n",
        "\n",
        "We solve it in two ways:\n",
        "\n",
        "1. Solve the DE as a second order problem.\n",
        "\n",
        "2. Solve the DE as a system of 2 order 1 differential equations.\n",
        "\n",
        "We use the physics-informed neural network (PINN) methodology in both problems."
      ],
      "metadata": {
        "id": "f-p7oF4oToBq"
      }
    },
    {
      "cell_type": "code",
      "execution_count": 27,
      "metadata": {
        "id": "lBQ2FwDbPpP_"
      },
      "outputs": [],
      "source": [
        "# import numpy and Tensorflow\n",
        "import tensorflow as tf\n",
        "import numpy as np\n",
        "import matplotlib.pyplot as plt"
      ]
    },
    {
      "cell_type": "code",
      "source": [
        "# Set date type\n",
        "DTYPE = 'float32'\n",
        "tf.keras.backend.set_floatx(DTYPE)\n",
        "\n",
        "EPOCH = 5000\n",
        "\n",
        "# set constant- need to be tensors\n",
        "e = tf.constant([np.e], dtype = DTYPE)\n",
        "\n",
        "# initial condition at t_0 = 1\n",
        "t_0 = tf.constant([1], dtype = DTYPE)\n",
        "\n",
        "# y_0 = 0, and yt_0 = 1 at t_0 = 1.\n",
        "y_0 = tf.constant([0.], dtype=DTYPE)\n",
        "yt_0 = tf.constant([1.], dtype=DTYPE)\n",
        "\n",
        "# number of points in time, time interval is [1, 3]\n",
        "N_0 = 50\n",
        "time_interval = [1., 3.] #\n",
        "\n",
        "# convert constants to tensor; need [] outside of time_interval[j] to work correctly\n",
        "tmin = tf.constant([time_interval[0]], dtype=DTYPE)\n",
        "tmax = tf.constant([time_interval[1]], dtype=DTYPE)"
      ],
      "metadata": {
        "id": "7egxvJ-IWXEQ"
      },
      "execution_count": 28,
      "outputs": []
    },
    {
      "cell_type": "markdown",
      "source": [
        "Define residual of the differential equation\n",
        "\n",
        "$ r = t^2y_{tt} + 3ty_t+4y-t$"
      ],
      "metadata": {
        "id": "AQvmWQ7PWXPC"
      }
    },
    {
      "cell_type": "code",
      "source": [
        "# solve second order DE\n",
        "# define the residual\n",
        "\n",
        "def residual(t, y, y_t, y_tt):\n",
        "  return t**2 * y_tt + 3 * t * y_t + 4 * y - t"
      ],
      "metadata": {
        "id": "AI5haEQ0XgsH"
      },
      "execution_count": 29,
      "outputs": []
    },
    {
      "cell_type": "markdown",
      "source": [
        "### Define time variables- function $y$ is evaluated at these $t$ values."
      ],
      "metadata": {
        "id": "TTbv1xnNW5ge"
      }
    },
    {
      "cell_type": "code",
      "source": [
        "# t is assigned randomly\n",
        "# t = tf.random.uniform((N_0,1), tmin, tmax, dtype=DTYPE)\n",
        "\n",
        "# t is assigned use linear space\n",
        "t = tf.linspace(tmin, tmax, N_0)"
      ],
      "metadata": {
        "id": "Vw__MfUkXL-w"
      },
      "execution_count": 30,
      "outputs": []
    },
    {
      "cell_type": "markdown",
      "source": [
        "Set up model.\n",
        "\n",
        "This is a sequential model, set up by adding layers one by one.\n",
        "\n",
        "The variable t is first scaled to be from `[tmin, tmax]` to `[0,1]`. This is to help the activation function.\n",
        "\n",
        "The model has 8 hidden layer, with 20 neurons each. The input is 1 dimensional, and takes time; the output is 1 dimensional, and outputs the function  $y(t)$."
      ],
      "metadata": {
        "id": "YWX_lXf-XSjT"
      }
    },
    {
      "cell_type": "code",
      "source": [
        "def init_model(num_hidden_layers=8, num_neurons_per_layer=20):\n",
        "    # Initialize a feedforward neural network\n",
        "    model = tf.keras.Sequential()\n",
        "\n",
        "    # Input is one-dimensional (time)\n",
        "    model.add(tf.keras.Input(1))\n",
        "\n",
        "    # Introduce a scaling layer to map input [tmin, tmax] to [-1, 1]\n",
        "    scaling_layer = tf.keras.layers.Lambda(\n",
        "                lambda t: 2.0*(t - tmin)/(tmax - tmin) - 1.0)\n",
        "    model.add(scaling_layer)\n",
        "\n",
        "    # Append hidden layers\n",
        "    for _ in range(num_hidden_layers):\n",
        "        model.add(tf.keras.layers.Dense(num_neurons_per_layer,\n",
        "            activation=tf.keras.activations.get('tanh'),\n",
        "            kernel_initializer='glorot_normal'))\n",
        "\n",
        "    # Output is one-dimensional\n",
        "    model.add(tf.keras.layers.Dense(1))\n",
        "\n",
        "    return model"
      ],
      "metadata": {
        "id": "d8FDKCPTbv6p"
      },
      "execution_count": 31,
      "outputs": []
    },
    {
      "cell_type": "markdown",
      "source": [
        "## Compute physics informed residual, loss and gradients."
      ],
      "metadata": {
        "id": "-tFw9RSVb0-T"
      }
    },
    {
      "cell_type": "code",
      "source": [
        "def get_residual(model, t):\n",
        "\n",
        "    # A tf.GradientTape is used to compute derivatives in TensorFlow\n",
        "    with tf.GradientTape(persistent=True) as tape:\n",
        "\n",
        "        # Variables t is watched during tape\n",
        "        # to compute derivatives y_t\n",
        "        tape.watch(t)\n",
        "\n",
        "        # compute y and y_t within the tape, as we still need y_t to compute y_tt\n",
        "        y = model(t)\n",
        "        y_t = tape.gradient(y, t)\n",
        "\n",
        "    y_tt = tape.gradient(y_t, t)\n",
        "    del tape\n",
        "    # Determine residual\n",
        "    return residual(t, y, y_t, y_tt)"
      ],
      "metadata": {
        "id": "hWTyO8Smb4_M"
      },
      "execution_count": 32,
      "outputs": []
    },
    {
      "cell_type": "code",
      "source": [
        "def compute_loss(model, t, t_0, y_0, yt_0):\n",
        "\n",
        "    # Compute mean square of residual for non initial values\n",
        "    r = get_residual(model, t)\n",
        "    non_ic_r = tf.reduce_mean(tf.square(r))\n",
        "\n",
        "    # first part of loss\n",
        "    loss = non_ic_r\n",
        "\n",
        "    with tf.GradientTape(persistent=True) as tape:\n",
        "\n",
        "        # Variables t is watched during tape\n",
        "        # to compute derivatives y_t\n",
        "        tape.watch(t_0)\n",
        "\n",
        "        # compute y within the tape, as we still need y to compute y_t\n",
        "        # Add loss at initial condition\n",
        "\n",
        "        y_pred = model(t_0)\n",
        "\n",
        "\n",
        "    yt_pred = tape.gradient(y_pred, t_0)\n",
        "\n",
        "    del tape\n",
        "    loss += tf.reduce_mean(tf.square(y_0 - y_pred))\n",
        "    loss += tf.reduce_mean(tf.square(yt_0 - yt_pred))\n",
        "\n",
        "    return loss"
      ],
      "metadata": {
        "id": "Ixtlr7X8esI3"
      },
      "execution_count": 33,
      "outputs": []
    },
    {
      "cell_type": "code",
      "source": [
        "model = init_model()\n",
        "loss = compute_loss(model, t, t_0, y_0, yt_0)"
      ],
      "metadata": {
        "colab": {
          "base_uri": "https://localhost:8080/"
        },
        "id": "uf2CyCYXtm4f",
        "outputId": "1cea453d-1a5d-46bd-bb9b-c951663f4786"
      },
      "execution_count": 34,
      "outputs": [
        {
          "output_type": "stream",
          "name": "stderr",
          "text": [
            "WARNING:tensorflow:Calling GradientTape.gradient on a persistent tape inside its context is significantly less efficient than calling it outside the context (it causes the gradient ops to be recorded on the tape, leading to increased CPU and memory usage). Only call GradientTape.gradient inside the context if you actually want to trace the gradient in order to compute higher order derivatives.\n"
          ]
        }
      ]
    },
    {
      "cell_type": "code",
      "source": [
        "def get_grad_of_loss(model, t, t_0, y_0, yt_0):\n",
        "\n",
        "    with tf.GradientTape(persistent=True) as tape:\n",
        "        # This tape is for derivatives with\n",
        "        # respect to trainable variables\n",
        "        tape.watch(model.trainable_variables)\n",
        "        loss = compute_loss(model, t, t_0, y_0, yt_0)\n",
        "\n",
        "    g = tape.gradient(loss, model.trainable_variables)\n",
        "    del tape\n",
        "\n",
        "    return loss, g"
      ],
      "metadata": {
        "id": "hMabxmXQt5i6"
      },
      "execution_count": 35,
      "outputs": []
    },
    {
      "cell_type": "markdown",
      "source": [
        "Set up optimizer and train model.\n",
        "\n",
        "Next we initialize the model, set the learning rate to the step function\n",
        "\n",
        "$$\n",
        "\\delta(n) = 0.01 \\, \\textbf{1}_{\\{n < 1000\\}} + 0.001 \\, \\textbf{1}_{\\{1000 \\le n < 3000\\}} + 0.0005 \\, \\textbf{1}_{\\{3000 \\le n\\}}\n",
        "$$\n",
        "\n",
        "which decays in a piecewise constant fashion, and set up a `tf.keras.optimizer` to train the model. Notice the learning rate decreases as the training goes on."
      ],
      "metadata": {
        "id": "gE9V3YhbuDNM"
      }
    },
    {
      "cell_type": "code",
      "source": [
        "# Initialize model aka y_\\theta\n",
        "model = init_model(num_hidden_layers=2)\n",
        "\n",
        "# We choose a piecewise decay of the learning rate, i.e., the\n",
        "# step size in the gradient descent type algorithm\n",
        "# the first 1000 steps use a learning rate of 0.01\n",
        "# from 1000 - 3000: learning rate = 0.001\n",
        "# from 3000 onwards: learning rate = 0.0005\n",
        "\n",
        "lr = tf.keras.optimizers.schedules.PiecewiseConstantDecay([1000,3000],[1e-2,1e-3,5e-4])\n",
        "\n",
        "# Choose the optimizer\n",
        "optim = tf.keras.optimizers.Adam(learning_rate=lr)"
      ],
      "metadata": {
        "id": "G6eQnaWHuFKh"
      },
      "execution_count": 36,
      "outputs": []
    },
    {
      "cell_type": "markdown",
      "source": [
        "Train the model for  𝑁=5000  epochs. Here, we set up a function `train_step()` which performs one training step.\n",
        "\n",
        "Note: The `@tf.function` is a so-called `Decorator` within Python. This particular decorator redefines the function that follows, in our case `train_step`, as a TensorFlow graph which may speed up the training significantly."
      ],
      "metadata": {
        "id": "dYBdGTBNuRHH"
      }
    },
    {
      "cell_type": "code",
      "source": [
        "from time import time\n",
        "\n",
        "# add function wrapper to increase speed of training\n",
        "@tf.function\n",
        "def train_step():\n",
        "    # Compute current loss and gradient w.r.t. parameters\n",
        "    loss, grad_theta = get_grad_of_loss(model, t, t_0, y_0, yt_0)\n",
        "\n",
        "    # Perform gradient descent step\n",
        "    optim.apply_gradients(zip(grad_theta, model.trainable_variables))\n",
        "\n",
        "    return loss\n",
        "\n",
        "# Number of training epochs\n",
        "N = EPOCH\n",
        "hist = []\n",
        "\n",
        "# Start timer\n",
        "t0 = time()\n",
        "\n",
        "for i in range(N + 1):\n",
        "\n",
        "    loss = train_step()\n",
        "\n",
        "    # Append current loss to hist\n",
        "    hist.append(loss.numpy())\n",
        "\n",
        "    # Output current loss after 50 iterates\n",
        "    if i%500 == 0:\n",
        "        print('It {:05d}: loss = {:10.8e}'.format(i,loss))\n",
        "\n",
        "# Print computation time\n",
        "print('\\nComputation time: {} seconds'.format(time()-t0))"
      ],
      "metadata": {
        "colab": {
          "base_uri": "https://localhost:8080/"
        },
        "id": "BwbBG08VuSJv",
        "outputId": "a5ee956e-ffa2-46a9-b9cb-d5a4c9dbd0b7"
      },
      "execution_count": 37,
      "outputs": [
        {
          "output_type": "stream",
          "name": "stdout",
          "text": [
            "It 00000: loss = 2.56894636e+00\n",
            "It 00500: loss = 5.10022568e-04\n",
            "It 01000: loss = 1.32610396e-04\n",
            "It 01500: loss = 1.16396346e-04\n",
            "It 02000: loss = 9.89855835e-05\n",
            "It 02500: loss = 8.12692597e-05\n",
            "It 03000: loss = 6.44233151e-05\n",
            "It 03500: loss = 5.61850284e-05\n",
            "It 04000: loss = 4.77968060e-05\n",
            "It 04500: loss = 3.97030599e-05\n",
            "It 05000: loss = 3.23530548e-05\n",
            "\n",
            "Computation time: 7.673559665679932 seconds\n"
          ]
        }
      ]
    },
    {
      "cell_type": "markdown",
      "source": [
        "In the following, we plot the computational solution and the analytical solution. The analytical solution is\n",
        "\n",
        "$y(t) = (3t^2 + 5\\sqrt{3}\\sin({\\sqrt{3}\\ln(t))-3\\cos(\\sqrt{3}\\ln(t)))/21t $\n",
        "\n",
        "\n",
        "and was given [here](https://www.wolframalpha.com/input?i=t%5E2y%27%27+%2B+3ty%27%2B4y+%3D+t%2C+y%281%29+%3D+0%2C+y%27%281%29%3D1)\n",
        "\n"
      ],
      "metadata": {
        "id": "iReWvcDG2n0X"
      }
    },
    {
      "cell_type": "code",
      "source": [
        "y = model(t).numpy().reshape(len(t))\n",
        "\n",
        "tt = tf.linspace(tmin, tmax, N_0)\n",
        "\n",
        "numerator = 3. * tt**2 + 5. * np.sqrt(3.) * np.sin(np.sqrt(3.) * np.log(tt))  - 3. * np.cos(np.sqrt(3.) * np.log(tt))\n",
        "\n",
        "gold = numerator / (21 * tt)\n",
        "\n",
        "fig, ax = plt.subplots()\n",
        "ax.plot(t, y, 'o', label = 'computational')\n",
        "ax.plot(tt, gold, label = 'analytical')\n",
        "ax.legend()\n",
        "\n",
        "plt.show()"
      ],
      "metadata": {
        "colab": {
          "base_uri": "https://localhost:8080/",
          "height": 434
        },
        "id": "OoSnZc2Oud0h",
        "outputId": "176c6d30-9076-47b4-89e6-04bf2437088e"
      },
      "execution_count": 38,
      "outputs": [
        {
          "output_type": "display_data",
          "data": {
            "text/plain": [
              "<Figure size 640x480 with 1 Axes>"
            ],
            "image/png": "[encoded data removed]"
          },
          "metadata": {}
        }
      ]
    }
  ]
}