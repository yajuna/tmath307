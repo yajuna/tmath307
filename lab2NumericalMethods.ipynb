{
 "cells": [
  {
   "cell_type": "markdown",
   "metadata": {},
   "source": [
    "This lab plays with numerical methods similar to what we learned in class. We study how to solve initial-value problems in the form of $y'=f(t,y)$, $y(t_0)=y_0$.\n",
    "\n",
    "The idea is, given the initial condition $(t_0,y_0)$, we compute a set of discrete points $(t_0,y_0)$, $(t_1,y_1)$, $(t_2,y_2)$,...,$(t_N,y_N)$. Here $t_j = t_0+j\\Delta t$, and $y_j$ is an approximation to the value of the solution at $t_j$, i.e. $y_j\\approx y(t_j)$. Once the set of points are obtained, we simply plot the approximate solution by connecting the dots, or fit some sort of curve thru the points.  \n",
    "\n",
    "We will be investigating how step size $\\Delta t$ impact the accuracy of approximate solutions, and how different methods impact accuracy of approximate solutions. "
   ]
  },
  {
   "cell_type": "code",
   "execution_count": null,
   "metadata": {},
   "outputs": [],
   "source": [
    "## import packages\n",
    "import numpy as np\n",
    "import scipy as sp\n",
    "import matplotlib \n",
    "import matplotlib.pyplot as plt "
   ]
  },
  {
   "cell_type": "markdown",
   "metadata": {},
   "source": [
    "1. Euler's method. We use the difference quotient directly to approximate the derivative $$y'(t_{j+1})\\approx \\frac{y_{j+1}-y_j}{\\Delta t}.$$\n",
    "Then the differential equation becomes a difference equation\n",
    "$$\\frac{y_{j+1}-y_j}{\\Delta t}=f(t_j,y_j),$$\n",
    "and given the approximate value from step $j$, we can find value in step $j+1$: \n",
    "$$y_{j+1}=y_j+\\Delta tf(t_j,y_j)$$\n",
    "\n",
    "Example: Approximate the solution to $y'=t-y,\\ y(0)=1$, on the interval [0,2].\n"
   ]
  },
  {
   "cell_type": "code",
   "execution_count": null,
   "metadata": {},
   "outputs": [],
   "source": [
    "## We take the number of steps N to be 4, then dt = 0.5\n",
    "N = 40\n",
    "dt = (2-0)/N\n",
    "print(dt)"
   ]
  },
  {
   "cell_type": "code",
   "execution_count": null,
   "metadata": {},
   "outputs": [],
   "source": [
    "## define right hand side function\n",
    "def rhs(t,y):\n",
    "    return t-y\n",
    "\n",
    "## give a vector valued t, and print the output\n",
    "t = np.linspace(0,2,num = N, endpoint = False)\n",
    "\n",
    "## make a zero array to store computations\n",
    "\n",
    "y = np.zeros(np.size(t))\n",
    "\n",
    "## initial condition y0 = 1/e (y(-1)=e^(-1))\n",
    "\n",
    "y[0] = 1\n",
    "\n",
    "## iterative step for computing the unknown value y\n",
    "for i in range(np.size(t)-1):\n",
    "    y[i+1] = y[i] + dt*rhs(t[i],y[i]) "
   ]
  },
  {
   "cell_type": "code",
   "execution_count": null,
   "metadata": {},
   "outputs": [],
   "source": [
    "## visualize the numerical solutions: discrete data points\n",
    "plt.plot(t, y, '.r')\n",
    "plt.title('points with number of steps: N=%i' %N)\n",
    "plt.show()"
   ]
  },
  {
   "cell_type": "code",
   "execution_count": null,
   "metadata": {},
   "outputs": [],
   "source": [
    "## visualize the numerical solutions: connect the dots\n",
    "plt.plot(t, y, '.r-')\n",
    "plt.title('curve with number of steps: N=%i' %N)\n",
    "plt.show()"
   ]
  },
  {
   "cell_type": "code",
   "execution_count": null,
   "metadata": {},
   "outputs": [],
   "source": [
    "## change N to 40, 400, and 4000. Run above cells, and plot the images for each. Your submitted\n",
    "## .ipynb should have the result for N = 4000. "
   ]
  },
  {
   "cell_type": "markdown",
   "metadata": {},
   "source": [
    "This equation is linear, and  you can solve to find the solution to be $y(t)=t-1+2e^{-t}$. In the following, we plot the true solution.  "
   ]
  },
  {
   "cell_type": "code",
   "execution_count": null,
   "metadata": {},
   "outputs": [],
   "source": [
    "## plot analytical solution of DE\n",
    "y_true = t-1+2*np.e**(-t)\n",
    "plt.plot(t, y_true, '.b-')\n",
    "plt.title('Plot of analytical solution')\n",
    "plt.show()"
   ]
  },
  {
   "cell_type": "markdown",
   "metadata": {},
   "source": [
    "The claim is, the smaller $\\Delta t$ is, the closer the approximate solution is to the true solution. So we compute the error term at $t=2$. "
   ]
  },
  {
   "cell_type": "code",
   "execution_count": null,
   "metadata": {},
   "outputs": [],
   "source": [
    "## Run the cell with N = 4, 40, 400, 4000, save your result in comments. \n",
    "\n",
    "errorEuler = np.abs(y[-1] - y_true[-1])\n",
    "print(\"error if time step is equal to\", N, \"is\", errorEuler)\n",
    "\n",
    "# N = 4\n",
    "# error1 = np.abs(y[-1] - y_true[-1]) = paste your result of temp here\n",
    "\n",
    "# N = 40\n",
    "# error2 = np.abs(y[-1] - y_true[-1]) = paste your result of temp here\n",
    "\n",
    "# N = 400\n",
    "# error3 = np.abs(y[-1] - y_true[-1]) = paste your result of temp here\n",
    "\n",
    "# N = 4000\n",
    "# error4 = np.abs(y[-1] - y_true[-1]) = paste your result of temp here\n"
   ]
  },
  {
   "cell_type": "markdown",
   "metadata": {},
   "source": [
    "Another popular method for solving ODEs is called Runge-Kutta method. It is a forth order method, meaning the error between exact and numerical solutions is of order $O(\\Delta t)^4$. In the following, we will go thru the algorithm for the same equation above. "
   ]
  },
  {
   "cell_type": "code",
   "execution_count": null,
   "metadata": {},
   "outputs": [],
   "source": [
    "## make a zero array to store computations\n",
    "\n",
    "yRK = np.zeros(np.size(t))\n",
    "\n",
    "## initial condition y0 = 1/e (y(-1)=e^(-1))\n",
    "\n",
    "yRK[0] = 1\n",
    "\n",
    "## iterative steps for RK method\n",
    "for i in range(np.size(t)-1):\n",
    "    m1 = rhs(t[i],yRK[i])\n",
    "    m2 = rhs(t[i] + dt/2,yRK[i] + m1*dt/2)\n",
    "    m3 = rhs(t[i] + dt/2,yRK[i] + m2*dt/2)\n",
    "    m4 = rhs(t[i] + dt,yRK[i] + m3*dt)\n",
    "    yRK[i+1] = yRK[i] + dt/6*(m1 + 2*m2 + 2*m3 + m4) "
   ]
  },
  {
   "cell_type": "code",
   "execution_count": null,
   "metadata": {},
   "outputs": [],
   "source": [
    "plt.plot(t, yRK, '.r-')\n",
    "plt.title('curve with number of steps: N=%i' %N)\n",
    "plt.show()"
   ]
  },
  {
   "cell_type": "markdown",
   "metadata": {},
   "source": [
    "Write your own code to compare: when using the same N, which method is better, Euler or Runge-Kutta?"
   ]
  },
  {
   "cell_type": "code",
   "execution_count": null,
   "metadata": {},
   "outputs": [],
   "source": [
    "## Add your own code here. Make sure to do analysis, and document in comments.\n",
    "\n",
    "errorRK = np.abs(yRK[-1] - y_true[-1])\n",
    "print(\"error for Runge-Kutta method if time step is equal to\", N, \"is\", errorRK)\n"
   ]
  },
  {
   "cell_type": "code",
   "execution_count": null,
   "metadata": {},
   "outputs": [],
   "source": []
  }
 ],
 "metadata": {
  "kernelspec": {
   "display_name": "Python 3 (ipykernel)",
   "language": "python",
   "name": "python3"
  },
  "language_info": {
   "codemirror_mode": {
    "name": "ipython",
    "version": 3
   },
   "file_extension": ".py",
   "mimetype": "text/x-python",
   "name": "python",
   "nbconvert_exporter": "python",
   "pygments_lexer": "ipython3",
   "version": "3.8.10"
  }
 },
 "nbformat": 4,
 "nbformat_minor": 2
}
